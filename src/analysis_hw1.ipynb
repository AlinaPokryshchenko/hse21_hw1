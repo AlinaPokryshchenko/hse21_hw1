{
 "cells": [
  {
   "cell_type": "code",
   "execution_count": null,
   "metadata": {},
   "outputs": [],
   "source": [
    "import numpy as np\n",
    "def analysis_c(contig):\n",
    "    counter = 0\n",
    "    length = 0\n",
    "    array = []\n",
    "    for row in contig:\n",
    "        if row[0] == '>':\n",
    "            counter += 1\n",
    "            length += int(row.split('_')[1][3:])\n",
    "            array.append(int(row.split('_')[1][3:]))\n",
    "    array = np.asarray(array)\n",
    "    array = np.sort(array)[::-1]\n",
    "    value = np.sum(array) / 2\n",
    "    n50 = array[np.cumsum(array) >= value][0]\n",
    "    \n",
    "    print('Общее количество контигов: ', counter)\n",
    "    print('Суммарная длина контигов: ', length)\n",
    "    print('Длина самого длинного контига: ', max(array))\n",
    "    print('N50: ', n50)"
   ]
  },
  {
   "cell_type": "code",
   "execution_count": null,
   "metadata": {},
   "outputs": [],
   "source": [
    "import numpy as np\n",
    "def analysis_s(scaffold):\n",
    "    counter = 0\n",
    "    length = 0\n",
    "    array = []\n",
    "    for row in scaffold:\n",
    "        if row[0] == '>':\n",
    "            counter += 1\n",
    "            length += int(row.split('_')[1][3:])\n",
    "            array.append(int(row.split('_')[1][3:]))\n",
    "    array = np.asarray(array)\n",
    "    array = np.sort(array)[::-1]\n",
    "    value = np.sum(array) / 2\n",
    "    n50 = array[np.cumsum(array) >= value][0]\n",
    "    \n",
    "    print('Общее количество скаффолдов: ', counter)\n",
    "    print('Суммарная длина скаффолдов: ', length)\n",
    "    print('Длина самого длинного скаффолда: ', max(array))\n",
    "    print('N50: ', n50)"
   ]
  },
  {
   "cell_type": "code",
   "execution_count": null,
   "metadata": {},
   "outputs": [],
   "source": [
    "contig_file = open('Poil_contig.fa', 'r')\n",
    "contig = contig_file.readlines()\n",
    "analysis_c(contig)"
   ]
  },
  {
   "cell_type": "code",
   "execution_count": null,
   "metadata": {},
   "outputs": [],
   "source": [
    "scaffold_file = open('Poil_scaffold.fa', 'r')\n",
    "scaffold = scaffold_file.readlines()\n",
    "analysis_s(scaffold)"
   ]
  },
  {
   "cell_type": "code",
   "execution_count": null,
   "metadata": {},
   "outputs": [],
   "source": [
    "for line in scaffold:\n",
    "    if int(line.split('_')[1][3:]) == 3831215:\n",
    "        print(line)\n",
    "        break"
   ]
  }
 ],
 "metadata": {
  "kernelspec": {
   "display_name": "Python 3",
   "language": "python",
   "name": "python3"
  },
  "language_info": {
   "codemirror_mode": {
    "name": "ipython",
    "version": 3
   },
   "file_extension": ".py",
   "mimetype": "text/x-python",
   "name": "python",
   "nbconvert_exporter": "python",
   "pygments_lexer": "ipython3",
   "version": "3.8.5"
  }
 },
 "nbformat": 4,
 "nbformat_minor": 4
}
